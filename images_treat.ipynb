{
 "cells": [
  {
   "cell_type": "code",
   "execution_count": 5,
   "id": "0fd6fe01-b1dd-4978-8a35-e3c5d817fc5b",
   "metadata": {
    "tags": []
   },
   "outputs": [],
   "source": [
    "def get_object_detection_model(num_classes):\n",
    "    from torch import nn\n",
    "    import torchvision\n",
    "    from torchvision.models.detection import FasterRCNN\n",
    "    from torchvision.models.detection.rpn import AnchorGenerator\n",
    "    from torchvision.models.detection.faster_rcnn import FastRCNNPredictor\n",
    "    \n",
    "    model = torchvision.models.detection.fasterrcnn_resnet50_fpn()\n",
    "    in_features = model.roi_heads.box_predictor.cls_score.in_features\n",
    "    model.roi_heads.box_predictor = FastRCNNPredictor(in_features, num_classes) # lenght of classes WITHOUT background on input\n",
    "    \n",
    "#    model.roi_heads.box_predictor.cls_score = nn.Sequential(nn.Linear(1024, 512), nn.Linear(512,256), nn.Linear(256, 128), nn.Linear(128, 2))\n",
    "    \n",
    "#    model.roi_heads.box_predictor.bbox_pred = nn.Sequential(nn.Linear(1024, 512), nn.Linear(512,256), nn.Linear(256, 128), nn.Linear(128, 8))\n",
    "\n",
    "    return model\n",
    "\n",
    "\n",
    "def load_model(filepath: str):   \n",
    "    model = get_object_detection_model(num_classes=2)\n",
    "    model.load_state_dict(torch.load(filepath))\n",
    "    return model\n",
    "\n",
    "def eval_transform():\n",
    "    from albumentations import Compose, ToFloat\n",
    "    from albumentations.pytorch import ToTensorV2    \n",
    "    return Compose([ToFloat(p=1.0), ToTensorV2(p=1.0)])\n",
    "\n",
    "import torch\n",
    "@torch.no_grad()\n",
    "def predict_images(filepath, model) -> None:\n",
    "    import os\n",
    "    import cv2\n",
    "    import pandas as pd\n",
    "    import numpy as np\n",
    "    from torchvision.utils import draw_bounding_boxes, save_image\n",
    "    from tqdm import tqdm\n",
    "    \n",
    "    inv_classes = {value:key for key, value in classes.items()}    \n",
    "    device = torch.device('cuda') if torch.cuda.is_available() else torch.device('cpu')   \n",
    "    model.to(device)  \n",
    "    images = [image for image in os.listdir(filepath) if image.endswith('.JPG')]\n",
    "#    print(images)\n",
    "    for im in tqdm(images):\n",
    "        image_orig = cv2.imdecode(np.fromfile(filepath + '/' + im, dtype=np.uint8), cv2.IMREAD_UNCHANGED) #cv2.imread(filepath + '/' + im)  \n",
    "        image = cv2.cvtColor(image_orig, cv2.COLOR_BGR2RGB)\n",
    "        transform = eval_transform()        \n",
    "        model.eval()       \n",
    "        x = transform(image=image)       \n",
    "        x = x['image']        \n",
    "        x = x[:3, ...].to(device)        \n",
    "        predictions = model([x, ])        \n",
    "        pred = predictions[0]\n",
    "        pred = cut_score_V2(predictions=pred, device=device, score_thresh=0.95)\n",
    "#        print(f\"Scores for image {im} is in [{pred['scores']}]\")\n",
    "        df = pd.DataFrame(data=pred['boxes'], columns=['xmin', 'ymin', 'xmax', 'ymax'])\n",
    "        df['label'] = [inv_classes[label] + f': {round(score, 2)}' for label, score in zip(pred['labels'], pred['scores'])]\n",
    "        for num, rect in enumerate(df.itertuples()):\n",
    "            xmin = int(torch.FloatTensor.item(rect.xmin.detach().cpu())) - 50\n",
    "            xmax = int(torch.FloatTensor.item(rect.xmax.detach().cpu())) + 50\n",
    "            ymin = int(torch.FloatTensor.item(rect.ymin.detach().cpu())) - 50\n",
    "            ymax = int(torch.FloatTensor.item(rect.ymax.detach().cpu())) + 50\n",
    "            \n",
    "            if xmin < 0:\n",
    "                xmin = 0\n",
    "            if ymin < 0:\n",
    "                ymin = 0\n",
    "                \n",
    "            if xmax > image_orig.shape[1] - 1:\n",
    "                xmax = image_orig.shape[1] - 1\n",
    "            if ymax > image_orig.shape[0] - 1:\n",
    "                ymax = image_orig.shape[0] - 1\n",
    "            \n",
    "            start_point = (xmin, ymax) \n",
    "            end_point = (xmax, ymin)\n",
    "#            print(start_point, end_point)\n",
    "            color = (0, 0, 255) \n",
    "            thickness = 5\n",
    "            crop_image = image_orig[ymin:ymax, xmin:xmax, :]\n",
    "\n",
    "#            try:\n",
    "#                cv2.imwrite(f'./test_pred_1/{im[:-4]}_crop_{num}.jpg', crop_image)\n",
    "#            except Exception as e:\n",
    "#                print(f'Image: {im}; xmin={xmin}, xmax={xmax}, ymin={ymin}, ymax={ymax}')\n",
    "#                raise e\n",
    "            #cv2.rectangle(image_orig, start_point, end_point, color, thickness)\n",
    "            #cv2.putText(image_orig, f'Box_{num}', (xmin, ymin - 10), cv2.FONT_HERSHEY_SIMPLEX, 2, (0,0,255), 3, cv2.LINE_AA)\n",
    "            #try:\n",
    "            annotate(im, image, crop_image, xmin, xmax, ymin, ymax, filepath, num)\n",
    "            #except:\n",
    "                #print(f'annotaton skip at {im}')\n",
    "            # Displaying the image  \n",
    "            cv2.imwrite(f'./NEW_DATASET/2c_dataset/temp/{im[:-4]}_MalMich_auto_crop_{num}.jpg', crop_image)  \n",
    "\n",
    "        \n",
    "def cut_score_V2(predictions: dict, device, score_thresh = 0.5):\n",
    "    new_pred = {'boxes': [], 'labels': [], 'scores': []}\n",
    "    for box, label, score in zip(predictions['boxes'], predictions['labels'], predictions['scores']):\n",
    "        if score >= score_thresh:\n",
    "            new_pred['boxes'].append(box)\n",
    "            new_pred['labels'].append(torch.IntTensor.item(label))\n",
    "            new_pred['scores'].append(torch.FloatTensor.item(score))\n",
    "    return new_pred\n",
    "\n",
    "def annotate(image_name, image, crop_image, xmin, xmax, ymin, ymax, path, num):\n",
    "    points = []\n",
    "    with open(path[:-7] + '/Extracted_Points/annotations/' + image_name[:-4] + '_extr.txt', 'r') as f:\n",
    "        for line in f:\n",
    "            line = line.split()\n",
    "            x, y = map(float, line[1:3])\n",
    "            if xmin < int(x * image.shape[1]) < xmax and ymin < int(y * image.shape[0]) < ymax:\n",
    "                points.append([(int(x * image.shape[1]) - xmin) / crop_image.shape[1], (int(y * image.shape[0]) - ymin) / crop_image.shape[0]])\n",
    "    with open(f'./NEW_DATASET/2c_dataset/temp/annotations/{image_name[:-4]}_MalMich_auto_crop_{num}.txt', 'w') as file:\n",
    "        for point in points:\n",
    "            file.write(f'0 {point[0]:.6f} {point[1]:.6f} {20/crop_image.shape[1]:.6f} {20/crop_image.shape[0]:.6f}\\n')"
   ]
  },
  {
   "cell_type": "code",
   "execution_count": 6,
   "id": "aa285408-7478-45d4-baf5-9aa36fb6546b",
   "metadata": {
    "tags": []
   },
   "outputs": [
    {
     "name": "stderr",
     "output_type": "stream",
     "text": [
      "100%|██████████| 305/305 [09:06<00:00,  1.79s/it]\n"
     ]
    }
   ],
   "source": [
    "model_path = \"C:/Users/User/Desktop/Teobox_Ship_2022-10-16T21.03.14/NN_models/Building_detection_model.pth\"\n",
    "classes = {'Building': 1}\n",
    "path = \"C:/Users/User/Desktop/д. Малая Михайловка/images\"\n",
    "\n",
    "model = load_model(model_path)\n",
    "\n",
    "predict_images(path, model)\n",
    "#print(model.backbone)"
   ]
  },
  {
   "cell_type": "code",
   "execution_count": 6,
   "id": "10cb638e-a021-470d-b399-ee9db7c472e1",
   "metadata": {},
   "outputs": [
    {
     "name": "stdout",
     "output_type": "stream",
     "text": [
      "g\n"
     ]
    }
   ],
   "source": [
    "if ...:\n",
    "    print('g')"
   ]
  },
  {
   "cell_type": "code",
   "execution_count": 9,
   "id": "498cb76b-78d1-4eae-9ebd-60fcda97f546",
   "metadata": {},
   "outputs": [
    {
     "data": {
      "text/plain": [
       "'Bachar(1)'"
      ]
     },
     "execution_count": 9,
     "metadata": {},
     "output_type": "execute_result"
    }
   ],
   "source": [
    "s = 'Bachar (1).tif'\n",
    "\n",
    "''.join(im[:-4].split())"
   ]
  },
  {
   "cell_type": "code",
   "execution_count": 11,
   "id": "1dd80736-8f86-4135-a410-b64f9d21eb64",
   "metadata": {
    "tags": []
   },
   "outputs": [
    {
     "data": {
      "text/plain": [
       "'./snow_test_pred_2/Bachar(1)_snow_2_crop_1.jpg'"
      ]
     },
     "execution_count": 11,
     "metadata": {},
     "output_type": "execute_result"
    }
   ],
   "source": [
    "num = 1\n",
    "\n",
    "f'./snow_test_pred_2/{\"\".join(s[:-4].split())}_snow_2_crop_{num}.jpg'"
   ]
  },
  {
   "cell_type": "code",
   "execution_count": 16,
   "id": "38b7208a-7213-431d-a1b2-2dd1cc427b6c",
   "metadata": {},
   "outputs": [],
   "source": [
    "class MyClass():\n",
    "    def __init__(self, a, b, **kwargs):\n",
    "        self.a = a\n",
    "        self.b = b\n",
    "        self.arr = kwargs\n",
    "    def get_kwargs(self):\n",
    "        return self.arr\n",
    "\n",
    "test = MyClass(a=1, b=2, c='lol', d='kek', e=31, f=33)"
   ]
  },
  {
   "cell_type": "code",
   "execution_count": 21,
   "id": "4da2d457-74cb-4b1d-af35-43a090b798ff",
   "metadata": {
    "tags": []
   },
   "outputs": [
    {
     "data": {
      "text/plain": [
       "dict_items([('c', 'lol'), ('d', 'kek'), ('e', 31), ('f', 33)])"
      ]
     },
     "execution_count": 21,
     "metadata": {},
     "output_type": "execute_result"
    }
   ],
   "source": [
    "test.get_kwargs().items()"
   ]
  },
  {
   "cell_type": "code",
   "execution_count": 22,
   "id": "af01112a-439b-4d2d-8c85-b15004d0b653",
   "metadata": {
    "tags": []
   },
   "outputs": [
    {
     "data": {
      "text/plain": [
       "[1.0, 1.0, 1.0, 1.0, 1.0]"
      ]
     },
     "execution_count": 22,
     "metadata": {},
     "output_type": "execute_result"
    }
   ],
   "source": [
    "[1.0] * 5"
   ]
  },
  {
   "cell_type": "code",
   "execution_count": 24,
   "id": "0dd95d22-cbc5-48fd-a146-6b3b266e8450",
   "metadata": {
    "tags": []
   },
   "outputs": [],
   "source": [
    "import torch\n",
    "\n",
    "class_weights = [1.0] * 5\n",
    "\n",
    "class_weights = torch.as_tensor(class_weights, dtype=torch.float32)"
   ]
  },
  {
   "cell_type": "code",
   "execution_count": 25,
   "id": "7220da68-d981-4909-a4ac-5317c49c1ae3",
   "metadata": {
    "tags": []
   },
   "outputs": [
    {
     "data": {
      "text/plain": [
       "tensor([1., 1., 1., 1., 1.])"
      ]
     },
     "execution_count": 25,
     "metadata": {},
     "output_type": "execute_result"
    }
   ],
   "source": [
    "class_weights"
   ]
  },
  {
   "cell_type": "code",
   "execution_count": 28,
   "id": "ca74c465-0f05-4b2e-b9fb-836e88a55c43",
   "metadata": {
    "tags": []
   },
   "outputs": [],
   "source": [
    "import shutil\n",
    "import os\n",
    "\n",
    "path = \"C:/Users/User/Petr/Net_3/Dataset\"\n",
    "\n",
    "images = os.listdir(os.path.join(path, \"temp\"))\n",
    "\n",
    "for image in images:\n",
    "    os.rename(os.path.join(path, \"temp\", image), os.path.join(path, \"temp\", image[:-4] + '_Mar' + image[-4:]))\n",
    "        "
   ]
  },
  {
   "cell_type": "code",
   "execution_count": 5,
   "id": "9b827afe-7411-4d23-9de5-658e8b3562f6",
   "metadata": {},
   "outputs": [
    {
     "data": {
      "image/png": "[encoded data removed]",
      "text/plain": [
       "<Figure size 640x480 with 1 Axes>"
      ]
     },
     "metadata": {},
     "output_type": "display_data"
    },
    {
     "data": {
      "image/png": "[encoded data removed]",
      "text/plain": [
       "<Figure size 640x480 with 1 Axes>"
      ]
     },
     "metadata": {},
     "output_type": "display_data"
    },
    {
     "data": {
      "image/png": "[encoded data removed]",
      "text/plain": [
       "<Figure size 640x480 with 1 Axes>"
      ]
     },
     "metadata": {},
     "output_type": "display_data"
    },
    {
     "name": "stdout",
     "output_type": "stream",
     "text": [
      "Files without buildings:\n",
      "\n",
      "\n"
     ]
    }
   ],
   "source": [
    "import os\n",
    "import numpy as np\n",
    "import matplotlib.pyplot as plt\n",
    "\n",
    "import seaborn as sns\n",
    "annotations_files = [file for file in sorted(os.listdir(os.path.join('./NEW_DATASET', \"annotations\"))) if not file=='classes.txt']\n",
    "\n",
    "max_lines = 0\n",
    "nums_of_points = []\n",
    "point_visibility = {'visible': 0, 'invisible': 0}\n",
    "buildings = {'One corner': 0, 'Two corner': 0, 'Three corner': 0, 'Many corner': 0}\n",
    "#two_corner_files = []\n",
    "#three_corners_files = []\n",
    "files_without_buildings = []\n",
    "for file in annotations_files: \n",
    "    with open(os.path.join('./NEW_DATASET', \"annotations/\") + file, 'r') as f:\n",
    "        visible_points = 0\n",
    "        lines = f.readlines()\n",
    "        sum_p = 0\n",
    "        building_marked = False\n",
    "        for line in lines:\n",
    "            if int(line.split()[0]) in (0, 1):\n",
    "                sum_p += 1\n",
    "            if int(line.split()[0]) == 0:\n",
    "                visible_points += 1\n",
    "            if int(line.split()[0]) == 2:\n",
    "                building_marked = True\n",
    "        if not building_marked:\n",
    "            files_without_buildings.append(file)\n",
    "        if sum_p == 10:\n",
    "            print(file)\n",
    "        nums_of_points.append(sum_p)\n",
    "        for line in lines:\n",
    "            if line.startswith('0'):\n",
    "                point_visibility['visible'] += 1\n",
    "            elif line.startswith('1'):\n",
    "                point_visibility['invisible'] += 1\n",
    "                print(file)\n",
    "        if visible_points == 1:\n",
    "            buildings['One corner'] += 1\n",
    "            #print(file)\n",
    "        elif visible_points == 2:\n",
    "            buildings['Two corner'] += 1\n",
    "            #two_corner_files.append(file[:-4]) \n",
    "        elif visible_points == 3:\n",
    "            buildings['Three corner'] += 1\n",
    "            #three_corners_files.append(file[:-4])\n",
    "        else:\n",
    "            buildings['Many corner'] += 1\n",
    "            #print(file)\n",
    "    \n",
    "            \n",
    "import seaborn as sns\n",
    "\n",
    "sns.set_theme()\n",
    "\n",
    "NPoints_hist = sns.histplot(nums_of_points, discrete=True, kde=False, stat='percent')\n",
    "#NPoints_hist.bar_label(NPoints_hist.containers[0], fontsize=10)\n",
    "NPoints_hist.set_title('Number of points on pictures')\n",
    "NPoints_hist.set_xlabel('Number of points per picture')\n",
    "NPoints_hist.set_ylabel('Percent of images')\n",
    "NPoints_hist.set(xticks=np.arange(1,10,1))\n",
    "for container in NPoints_hist.containers:\n",
    "    NPoints_hist.bar_label(container, fontsize=10)\n",
    "\n",
    "plt.show()\n",
    "\n",
    "visibility = sns.barplot(x=list(point_visibility.keys()), y=list(point_visibility.values()))\n",
    "visibility.bar_label(visibility.containers[0], fontsize=10)\n",
    "visibility.set_title('Points visibility')\n",
    "visibility.set_ylabel('Number of points')\n",
    "plt.show()\n",
    "\n",
    "buildings_corners = sns.barplot(x=list(buildings.keys()), y=list(buildings.values()))\n",
    "buildings_corners.bar_label(buildings_corners.containers[0], fontsize=10)\n",
    "buildings_corners.set_title('Buildings with different number of visible corners')\n",
    "buildings_corners.set_ylabel('Number of Buildings')\n",
    "plt.show()\n",
    "\n",
    "print('Files without buildings:\\n')\n",
    "print(*files_without_buildings)"
   ]
  },
  {
   "cell_type": "code",
   "execution_count": 1,
   "id": "bbbdae51-94bb-4c92-8d5a-0ff0e805f749",
   "metadata": {},
   "outputs": [
    {
     "name": "stdout",
     "output_type": "stream",
     "text": [
      "0\n",
      "10\n",
      "20\n",
      "30\n",
      "40\n",
      "50\n"
     ]
    }
   ],
   "source": [
    "for i in range(54):\n",
    "    if i % 10 == 0:\n",
    "        print(i)"
   ]
  },
  {
   "cell_type": "code",
   "execution_count": 4,
   "id": "092ce086-7d61-4338-81ab-e186c9aaaa0d",
   "metadata": {},
   "outputs": [
    {
     "name": "stdout",
     "output_type": "stream",
     "text": [
      "34\n"
     ]
    }
   ],
   "source": [
    "line = '  9 6 7  9    3'\n",
    "\n",
    "numbers = sum(map(int, line.split()))\n",
    "print(numbers)"
   ]
  },
  {
   "cell_type": "code",
   "execution_count": 3,
   "id": "e6fb978a-2837-4cb8-92aa-21c78f1c72e9",
   "metadata": {},
   "outputs": [
    {
     "name": "stdout",
     "output_type": "stream",
     "text": [
      "0.23 0.4 0.05 0.05\n"
     ]
    }
   ],
   "source": [
    "point = [23, 40]\n",
    "width, height = 100, 100\n",
    "\n",
    "x_c, y_c = [a/b for a, b in zip(point, [width, height])]\n",
    "\n",
    "w, h = [5/a for a in [width, height]]\n",
    "\n",
    "print(x_c, y_c, w, h)"
   ]
  },
  {
   "cell_type": "code",
   "execution_count": null,
   "id": "3c0f31eb-b5e9-4381-a1b3-33e64983aa4f",
   "metadata": {},
   "outputs": [],
   "source": []
  }
 ],
 "metadata": {
  "kernelspec": {
   "display_name": "Python 3 (ipykernel)",
   "language": "python",
   "name": "python3"
  },
  "language_info": {
   "codemirror_mode": {
    "name": "ipython",
    "version": 3
   },
   "file_extension": ".py",
   "mimetype": "text/x-python",
   "name": "python",
   "nbconvert_exporter": "python",
   "pygments_lexer": "ipython3",
   "version": "3.11.5"
  }
 },
 "nbformat": 4,
 "nbformat_minor": 5
}
